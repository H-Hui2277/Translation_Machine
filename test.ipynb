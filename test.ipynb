{
 "cells": [
  {
   "cell_type": "code",
   "execution_count": 1,
   "metadata": {},
   "outputs": [
    {
     "name": "stdout",
     "output_type": "stream",
     "text": [
      "Validation finished!\n"
     ]
    }
   ],
   "source": [
    "import torch\n",
    "from train import Trainer"
   ]
  },
  {
   "cell_type": "code",
   "execution_count": 2,
   "metadata": {},
   "outputs": [],
   "source": [
    "lang1 = 'french'\n",
    "lang2 = 'english'\n",
    "data_directory = 'data'\n",
    "reverse = True\n",
    "MAX_LENGTH = 50\n",
    "MAX_FILE_SIZE = 100000\n",
    "batch_size = 128\n",
    "lr = 0.0005\n",
    "hidden_size = 256\n",
    "encoder_layers = 3\n",
    "decoder_layers = 3\n",
    "encoder_heads = 8\n",
    "decoder_heads = 8\n",
    "encoder_ff_size = 512\n",
    "decoder_ff_size = 512\n",
    "encoder_dropout = 0.1\n",
    "decoder_dropout = 0.1\n",
    "device = 'cpu'\n",
    "epochs = 10\n",
    "saved_model_directory = 'saved_models/'"
   ]
  },
  {
   "cell_type": "code",
   "execution_count": 3,
   "metadata": {},
   "outputs": [
    {
     "name": "stderr",
     "output_type": "stream",
     "text": [
      "d:\\Programs\\MiniConda\\envs\\py\\Lib\\site-packages\\tqdm\\auto.py:21: TqdmWarning: IProgress not found. Please update jupyter and ipywidgets. See https://ipywidgets.readthedocs.io/en/stable/user_install.html\n",
      "  from .autonotebook import tqdm as notebook_tqdm\n"
     ]
    }
   ],
   "source": [
    "trainer = Trainer(lang1, lang2, data_directory, reverse, MAX_LENGTH, MAX_FILE_SIZE, batch_size, lr, hidden_size, encoder_layers, decoder_layers, \n",
    "                            encoder_heads, decoder_heads, encoder_ff_size, decoder_ff_size, encoder_dropout, decoder_dropout, device)"
   ]
  },
  {
   "cell_type": "code",
   "execution_count": 4,
   "metadata": {},
   "outputs": [
    {
     "name": "stdout",
     "output_type": "stream",
     "text": [
      "1000\n",
      "1132\n"
     ]
    }
   ],
   "source": [
    "print(trainer.input_lang_dic.n_count)\n",
    "print(trainer.output_lang_dic.n_count)"
   ]
  },
  {
   "cell_type": "code",
   "execution_count": 14,
   "metadata": {},
   "outputs": [
    {
     "name": "stdout",
     "output_type": "stream",
     "text": [
      "input.shape = torch.Size([63, 50]) target.shape = torch.Size([63, 50])\n",
      "transformer.encoded_input: torch.Size([63, 50, 256])\n",
      "transformer.target.shape: torch.Size([63, 49])\n",
      "transformer.output.shape: torch.Size([63, 49, 1132])\n",
      "output.shape = torch.Size([63, 49, 1132])\n",
      "flattented output.shape = torch.Size([3087, 1132])\n",
      "flattened target.shape = torch.Size([3087])\n"
     ]
    }
   ],
   "source": [
    "from random import shuffle\n",
    "\n",
    "shuffle(trainer.data_loader)\n",
    "\n",
    "for i, (input, target) in enumerate(trainer.data_loader):\n",
    "    print(f'input.shape = {input.shape}', f'target.shape = {target.shape}')\n",
    "    \n",
    "    output, _ = trainer.transformer(input, target[:,:-1])\n",
    "    print(f'output.shape = {output.shape}')\n",
    "    output_dim = output.shape[-1]\n",
    "    \n",
    "    output = output.contiguous().view(-1, output_dim)\n",
    "    print(f'flattented output.shape = {output.shape}')\n",
    "    target = target[:,1:].contiguous().view(-1)\n",
    "    print(f'flattened target.shape = {target.shape}')\n",
    "    # print(target.shape)\n",
    "    break"
   ]
  }
 ],
 "metadata": {
  "kernelspec": {
   "display_name": "py",
   "language": "python",
   "name": "python3"
  },
  "language_info": {
   "codemirror_mode": {
    "name": "ipython",
    "version": 3
   },
   "file_extension": ".py",
   "mimetype": "text/x-python",
   "name": "python",
   "nbconvert_exporter": "python",
   "pygments_lexer": "ipython3",
   "version": "3.12.4"
  }
 },
 "nbformat": 4,
 "nbformat_minor": 2
}
