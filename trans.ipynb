{
 "cells": [
  {
   "cell_type": "code",
   "execution_count": 1,
   "metadata": {},
   "outputs": [
    {
     "name": "stderr",
     "output_type": "stream",
     "text": [
      "<>:5: SyntaxWarning: invalid escape sequence '\\p'\n",
      "<>:5: SyntaxWarning: invalid escape sequence '\\p'\n",
      "C:\\Users\\Administrator\\AppData\\Local\\Temp\\ipykernel_18096\\239002192.py:5: SyntaxWarning: invalid escape sequence '\\p'\n",
      "  with open('E:\\\\Develop\\\\train\\pair\\\\train.nl-zh', 'r') as f:\n"
     ]
    }
   ],
   "source": [
    "import os\n",
    "if not os.path.exists('data/nederlands-chinese'):\n",
    "    os.mkdir('data/nederlands-chinese')\n",
    "\n",
    "with open('E:\\\\Develop\\\\train\\pair\\\\train.nl-zh', 'r') as f:\n",
    "    nederlands_file = open('data/nederlands-chinese/nederlands.txt', 'w')\n",
    "    chinese_file = open('data/nederlands-chinese/chinese.txt', 'w')\n",
    "    for line in f:\n",
    "        chinese, nederlands = line.split('\\t')\n",
    "        nederlands_file.write(nederlands + '\\n')\n",
    "        chinese_file.write(chinese + '\\n')\n",
    "    nederlands_file.close()\n",
    "    chinese_file.close()"
   ]
  }
 ],
 "metadata": {
  "kernelspec": {
   "display_name": "py",
   "language": "python",
   "name": "python3"
  },
  "language_info": {
   "codemirror_mode": {
    "name": "ipython",
    "version": 3
   },
   "file_extension": ".py",
   "mimetype": "text/x-python",
   "name": "python",
   "nbconvert_exporter": "python",
   "pygments_lexer": "ipython3",
   "version": "3.12.4"
  }
 },
 "nbformat": 4,
 "nbformat_minor": 2
}
